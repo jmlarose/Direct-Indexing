{
 "cells": [
  {
   "cell_type": "code",
   "execution_count": null,
   "metadata": {
    "collapsed": true
   },
   "outputs": [],
   "source": [
    "import requests\n",
    "import json\n",
    "from api_key import api_key\n",
    "import pandas as pd"
   ]
  },
  {
   "cell_type": "code",
   "execution_count": null,
   "metadata": {
    "collapsed": false
   },
   "outputs": [],
   "source": [
    "class Stock():\n",
    "    def __init__(self, symbol,api_key):\n",
    "        self.symbol=symbol\n",
    "        self.api_key=api_key\n",
    "        self.api_output=self.get_api_data()\n",
    "        \n",
    "    def get_api_data(self):\n",
    "        \"\"\"make api call\"\"\"\n",
    "        #Would want to handle non-200 responses \n",
    "        r=requests.get('https://www.alphavantage.co/query?function=TIME_SERIES_DAILY_ADJUSTED&symbol='+self.symbol+'&outputsize=full&apikey='+self.api_key)\n",
    "        return r\n",
    "    \n",
    "    def get_stock_df(self):\n",
    "        \"\"\"Create a dataframe indexed by day wwhich has share price info\"\"\"\n",
    "        stock_hist=json.loads(self.api_output.content)\n",
    "        stock_df=pd.DataFrame(stock_hist['Time Series (Daily)']).transpose()\n",
    "        stock_df['9. symbol']=stock_hist['Meta Data']['2. Symbol']\n",
    "        return stock_df"
   ]
  },
  {
   "cell_type": "code",
   "execution_count": null,
   "metadata": {
    "collapsed": false
   },
   "outputs": [],
   "source": [
    "z=Stock('DIS',api_key)"
   ]
  },
  {
   "cell_type": "code",
   "execution_count": null,
   "metadata": {
    "collapsed": false
   },
   "outputs": [],
   "source": [
    "z.get_stock_df()"
   ]
  }
 ],
 "metadata": {
  "kernelspec": {
   "display_name": "Python 3",
   "language": "python",
   "name": "python3"
  },
  "language_info": {
   "codemirror_mode": {
    "name": "ipython",
    "version": 3
   },
   "file_extension": ".py",
   "mimetype": "text/x-python",
   "name": "python",
   "nbconvert_exporter": "python",
   "pygments_lexer": "ipython3",
   "version": "3.6.0"
  }
 },
 "nbformat": 4,
 "nbformat_minor": 2
}
