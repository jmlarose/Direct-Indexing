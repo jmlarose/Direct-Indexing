{
 "cells": [
  {
   "cell_type": "code",
   "execution_count": null,
   "metadata": {
    "collapsed": true
   },
   "outputs": [],
   "source": [
    "import requests\n",
    "import json\n",
    "from api_key import api_key\n",
    "import pandas as pd"
   ]
  },
  {
   "cell_type": "code",
   "execution_count": null,
   "metadata": {
    "collapsed": false
   },
   "outputs": [],
   "source": [
    "class Stock():\n",
    "    def __init__(self, symbol,api_key):\n",
    "        self.symbol=symbol\n",
    "        self.api_key=api_key\n",
    "        self.api_output=self.get_api_data()\n",
    "        \n",
    "    def get_api_data(self):\n",
    "        \"\"\"make api call\"\"\"\n",
    "        #Would want to handle non-200 responses \n",
    "        r=requests.get('https://www.alphavantage.co/query?function=TIME_SERIES_DAILY_ADJUSTED&symbol='+self.symbol+'&outputsize=full&apikey='+self.api_key)\n",
    "        return r\n",
    "    \n",
    "    def get_stock_df(self):\n",
    "        \"\"\"Create a dataframe indexed by day wwhich has share price info\"\"\"\n",
    "        stock_hist=json.loads(self.api_output.content)\n",
    "        stock_df=pd.DataFrame(stock_hist['Time Series (Daily)']).transpose()\n",
    "        stock_df['9. symbol']=stock_hist['Meta Data']['2. Symbol']\n",
    "        return stock_df"
   ]
  },
  {
   "cell_type": "code",
   "execution_count": null,
   "metadata": {
    "collapsed": false
   },
   "outputs": [],
   "source": [
    "#This should probably be a class since we're going to be doing a bunch of things with the S&P\n",
    "\n",
    "def get_sp_df():\n",
    "    #Need a better source for SP500 financials like mkcp\n",
    "    sp500=requests.get('https://datahub.io/core/s-and-p-500-companies-financials/r/constituents-financials.json')\n",
    "    sp500_df=pd.DataFrame(json.loads(sp500.content))\n",
    "    sp500_df['Shares']=sp500_df['Market Cap']/sp500_df['Price']\n",
    "    return sp500_df\n",
    "def sample_sp(num_sample):\n",
    "    None\n",
    "\n",
    "    \n",
    "    \n",
    "class Portfolio():\n",
    "    def __init__(self, symbol_list):\n",
    "        self.symbol_list=symbol_list\n",
    "        self.Stocks=self.get_all_stocks()\n",
    "    def get_all_stocks(self):\n",
    "        Stocks=[]\n",
    "        for symbol in self.symbol_list:\n",
    "            Stocks.append(Stock(symbol,api_key))\n",
    "        return Stocks"
   ]
  },
  {
   "cell_type": "code",
   "execution_count": null,
   "metadata": {
    "collapsed": false
   },
   "outputs": [],
   "source": [
    "\n"
   ]
  },
  {
   "cell_type": "code",
   "execution_count": null,
   "metadata": {
    "collapsed": false
   },
   "outputs": [],
   "source": [
    "sp500_df=get_sp_df()\n",
    "stock_list=sp500_df.sample(5)['Symbol'].tolist()\n",
    "index=Portfolio(stock_list)\n",
    "index.Stocks[0].get_stock_df()"
   ]
  },
  {
   "cell_type": "code",
   "execution_count": null,
   "metadata": {
    "collapsed": false
   },
   "outputs": [],
   "source": []
  },
  {
   "cell_type": "code",
   "execution_count": null,
   "metadata": {
    "collapsed": false
   },
   "outputs": [],
   "source": []
  },
  {
   "cell_type": "code",
   "execution_count": null,
   "metadata": {
    "collapsed": false
   },
   "outputs": [],
   "source": [
    "z=Stock('DIS',api_key)\n",
    "z.get_stock_df()"
   ]
  },
  {
   "cell_type": "code",
   "execution_count": null,
   "metadata": {
    "collapsed": false
   },
   "outputs": [],
   "source": []
  },
  {
   "cell_type": "code",
   "execution_count": null,
   "metadata": {
    "collapsed": true
   },
   "outputs": [],
   "source": []
  }
 ],
 "metadata": {
  "kernelspec": {
   "display_name": "Python 3",
   "language": "python",
   "name": "python3"
  },
  "language_info": {
   "codemirror_mode": {
    "name": "ipython",
    "version": 3
   },
   "file_extension": ".py",
   "mimetype": "text/x-python",
   "name": "python",
   "nbconvert_exporter": "python",
   "pygments_lexer": "ipython3",
   "version": "3.6.0"
  }
 },
 "nbformat": 4,
 "nbformat_minor": 2
}
