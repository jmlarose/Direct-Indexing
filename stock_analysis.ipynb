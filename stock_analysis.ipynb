{
 "cells": [
  {
   "cell_type": "code",
   "execution_count": null,
   "metadata": {
    "collapsed": true
   },
   "outputs": [],
   "source": [
    "import requests\n",
    "import json\n",
    "from api_key import api_key\n",
    "import pandas as pd\n",
    "import time\n",
    "import pickle\n",
    "\n",
    "pd.options.display.max_rows = 9999"
   ]
  },
  {
   "cell_type": "code",
   "execution_count": null,
   "metadata": {
    "collapsed": false
   },
   "outputs": [],
   "source": [
    "class Stock():\n",
    "    def __init__(self, symbol,api_key):\n",
    "        self.symbol=symbol\n",
    "        self.api_key=api_key\n",
    "        self.api_output=self.get_api_data()\n",
    "        self.weight=1\n",
    "        \n",
    "    def get_api_data(self):\n",
    "        \"\"\"make api call\"\"\"\n",
    "        #Would want to handle non-200 responses \n",
    "        r=requests.get('https://www.alphavantage.co/query?function=TIME_SERIES_DAILY_ADJUSTED&symbol='+self.symbol+'&outputsize=full&apikey='+self.api_key)\n",
    "        return r\n",
    "    \n",
    "    def get_stock_df(self):\n",
    "        \"\"\"Create a dataframe indexed by day wwhich has share price info\"\"\"\n",
    "        stock_hist=json.loads(self.api_output.content)\n",
    "        stock_df=pd.DataFrame(stock_hist['Time Series (Daily)']).transpose()\n",
    "        stock_df=stock_df.astype(float)\n",
    "        stock_df['9. symbol']=stock_hist['Meta Data']['2. Symbol']+' '\n",
    "        return stock_df\n",
    "    \n",
    "\n",
    "class Index():\n",
    "    #Need to do the API calls in the index because it's limited to 5/minute and 500/day\n",
    "    def __init__(self):\n",
    "        self.sp500_df=self.get_sp_df()\n",
    "        self.sp500_prices={}\n",
    "        self.api_all_stocks()\n",
    "    def get_sp_df(self):\n",
    "        #Need a better source for SP500 financials like mkcp\n",
    "        sp500=requests.get('https://datahub.io/core/s-and-p-500-companies-financials/r/constituents-financials.json')\n",
    "        sp500_df=pd.DataFrame(json.loads(sp500.content))\n",
    "        sp500_df['Shares']=sp500_df['Market Cap']/sp500_df['Price']\n",
    "        return sp500_df\n",
    "    def sample_sp(self,num_sample):\n",
    "        return self.sp500_df.sample(num_sample)\n",
    "    \n",
    "    def api_all_stocks(self):\n",
    "        symb_list=self.sp500_df['Symbol'].tolist()\n",
    "        for i in symb_list:\n",
    "            self.sp500_prices[i]=Stock(i, api_key)\n",
    "            time.sleep(15)\n",
    "\n",
    "    \n",
    "    \n",
    "class Portfolio(Index):\n",
    "    def __init__(self, symbol_list):\n",
    "        self.symbol_list=symbol_list\n",
    "        self.Stocks=self.get_all_stocks()\n",
    "    def get_all_stocks(self):\n",
    "        Stocks=[]\n",
    "        for symbol in self.symbol_list:\n",
    "            Stocks.append(Stock(symbol,api_key))\n",
    "        return Stocks\n",
    "    def total_portfolio_df(self):\n",
    "        loop_check=0\n",
    "        for stock in self.Stocks:\n",
    "            if loop_check==0:\n",
    "                agg_df=stock.weight*stock.get_stock_df()\n",
    "            else:\n",
    "                agg_df+=stock.get_stock_df()\n",
    "        "
   ]
  },
  {
   "cell_type": "code",
   "execution_count": null,
   "metadata": {
    "collapsed": false
   },
   "outputs": [],
   "source": []
  },
  {
   "cell_type": "code",
   "execution_count": null,
   "metadata": {
    "collapsed": false
   },
   "outputs": [],
   "source": [
    "pickle.dump( sp500, open( \"2019-06-01_save.p\", \"wb\" ))"
   ]
  },
  {
   "cell_type": "code",
   "execution_count": null,
   "metadata": {
    "collapsed": true
   },
   "outputs": [],
   "source": [
    "sp500 = pickle.load( open( \"2019-06-01_save.p\", \"rb\" ) )"
   ]
  },
  {
   "cell_type": "code",
   "execution_count": null,
   "metadata": {
    "collapsed": false
   },
   "outputs": [],
   "source": [
    "sp500.sp500_prices['XYL']=Stock('XYL',api_key)\n",
    "sp500.sp500_prices['YUM']=Stock('YUM',api_key)\n",
    "sp500.sp500_prices['ZBH']=Stock('ZBH',api_key)\n",
    "sp500.sp500_prices['ZION']=Stock('ZION',api_key)\n",
    "sp500.sp500_prices['ZTS']=Stock('ZTS',api_key)"
   ]
  },
  {
   "cell_type": "code",
   "execution_count": null,
   "metadata": {
    "collapsed": false
   },
   "outputs": [],
   "source": [
    "sp500.sp500_df"
   ]
  },
  {
   "cell_type": "code",
   "execution_count": null,
   "metadata": {
    "collapsed": false
   },
   "outputs": [],
   "source": [
    "def return_2018(symbol):\n",
    "    shares=1000/float(json.loads(sp500.sp500_prices[symbol].api_output.content)['Time Series (Daily)']['2018-01-02']['5. adjusted close'])\n",
    "    return shares*float(json.loads(sp500.sp500_prices[symbol].api_output.content)['Time Series (Daily)']['2018-12-31']['5. adjusted close'])"
   ]
  },
  {
   "cell_type": "code",
   "execution_count": null,
   "metadata": {
    "collapsed": false
   },
   "outputs": [],
   "source": [
    "pd.DataFrame(json.loads(sp500.sp500_prices['WYN'].api_output.content)['Time Series (Daily)']).transpose()"
   ]
  },
  {
   "cell_type": "code",
   "execution_count": null,
   "metadata": {
    "collapsed": false
   },
   "outputs": [],
   "source": [
    "\n",
    "\n",
    "\n",
    "        "
   ]
  },
  {
   "cell_type": "code",
   "execution_count": null,
   "metadata": {
    "collapsed": false
   },
   "outputs": [],
   "source": [
    "class Performance():\n",
    "    def __init__(self,num_stocks=0, stock_list=None,start_date='2018-01-02', end_date='2018-12-31'):\n",
    "        self.num_stock=num_stocks\n",
    "        self.start_date=start_date\n",
    "        self.end_date=end_date\n",
    "        \n",
    "        if stock_list is None:\n",
    "            self.stock_list=self.get_stock_list(num_stocks)\n",
    "        else:\n",
    "            self.stock_list=stock_list\n",
    "        \n",
    "        self.stock_weights=self.get_stock_weights(self.stock_list)\n",
    "        \n",
    "        \n",
    "    def get_adj_price(self, symbol, date=None):\n",
    "        if date is None:\n",
    "            date=self.start_date\n",
    "        try:\n",
    "            return float(json.loads(sp500.sp500_prices[symbol].api_output.content)['Time Series (Daily)'][date]['5. adjusted close'])\n",
    "        except:\n",
    "            return 0\n",
    "    def get_nom_price(self,symbol,date=None):\n",
    "        if date is None:\n",
    "            date=self.start_date\n",
    "        try: \n",
    "            return float(json.loads(sp500.sp500_prices[symbol].api_output.content)['Time Series (Daily)'][date]['4. close'])\n",
    "        except:\n",
    "            return 0\n",
    "        \n",
    "    def get_mkt_cap(self,symbol,date=None):\n",
    "        if date is None:\n",
    "            date=self.start_date\n",
    "        try:\n",
    "            return sp500.sp500_df[sp500.sp500_df['Symbol']==symbol]['Shares'].tolist()[0]*z.get_nom_price(symbol,date)\n",
    "        except:\n",
    "            return 0\n",
    "    \n",
    "    def get_total_return(self,symbol,start_date, end_date,weight=1000.00):\n",
    "        shares=weight/float(json.loads(sp500.sp500_prices[symbol].api_output.content)['Time Series (Daily)'][start_date]['5. adjusted close'])\n",
    "        return shares*float(json.loads(sp500.sp500_prices[symbol].api_output.content)['Time Series (Daily)'][end_date]['5. adjusted close'])\n",
    "    \n",
    "    def get_stock_weights(self,stock_list):\n",
    "        weights={}\n",
    "        tot_cap=0\n",
    "        for i in stock_list:\n",
    "            tot_cap+=get_mkt_cap(i)\n",
    "        for i in stock_list:\n",
    "            weights[i]=get_mkt_cap(i)/tot_cap\n",
    "        return weights\n",
    "        \n",
    "    def portfolio_return(self):\n",
    "        port_return=0\n",
    "        for i in self.stock_list:\n",
    "            port_return+=self.get_total_return(i,self.start_date,self.end_date,self.stock_weights[i])\n",
    "        return port_return\n",
    "        \n",
    "    def get_stock_list(self,num_stocks):\n",
    "        stock_list=[]\n",
    "        for i in range(num_stocks):\n",
    "            symbol=sample_stock(stock_list)\n",
    "            stock_list.append(symbol)\n",
    "        return stock_list\n",
    "    \n",
    "    def sample_stock(self, stock_list):\n",
    "        stock_sample=sp500.sp500_df.sample(1)['Symbol'].tolist()[0]\n",
    "        if stock_sample not in stock_list:\n",
    "            try: \n",
    "                test=json.loads(sp500.sp500_prices[stock_sample].api_output.content)['Time Series (Daily)'][self.start_date]\n",
    "                test2=json.loads(sp500.sp500_prices[stock_sample].api_output.content)['Time Series (Daily)'][self.end_date]\n",
    "                return stock_sample\n",
    "            except:\n",
    "                return sample_stock(stock_list)\n",
    "        else:\n",
    "            return sample_stock(stock_list)"
   ]
  },
  {
   "cell_type": "code",
   "execution_count": null,
   "metadata": {
    "collapsed": false
   },
   "outputs": [],
   "source": [
    "z=Performance(stock_list=sp500.sp500_df['Symbol'].tolist())\n",
    "\n",
    "\n",
    "\n",
    "print(z.portfolio_return())\n",
    "#print(sp500.sp500_df[sp500.sp500_df['Symbol']=='AMZN']['Shares'].tolist()[0]*z.get_nom_price('AMZN'))"
   ]
  },
  {
   "cell_type": "code",
   "execution_count": null,
   "metadata": {
    "collapsed": false
   },
   "outputs": [],
   "source": [
    "sp500.sp500_df['Symbol'].tolist()"
   ]
  },
  {
   "cell_type": "code",
   "execution_count": null,
   "metadata": {
    "collapsed": false
   },
   "outputs": [],
   "source": [
    "def random_perf(num_stocks):\n",
    "    \n",
    "    \n",
    "    #stock_list\n",
    "\n",
    "    total_return=0\n",
    "    for i in stock_list:\n",
    "        #print(i)\n",
    "        total_return+=return_2018(i)\n",
    "        \n",
    "    return total_return"
   ]
  },
  {
   "cell_type": "code",
   "execution_count": null,
   "metadata": {
    "collapsed": false
   },
   "outputs": [],
   "source": [
    "performance_results=[]\n",
    "for i in range (100):\n",
    "    performance_results.append(random_perf(50))"
   ]
  },
  {
   "cell_type": "code",
   "execution_count": null,
   "metadata": {
    "collapsed": false
   },
   "outputs": [],
   "source": [
    "import statistics\n",
    "print(max(performance_results))\n",
    "print(min(performance_results))\n",
    "\n",
    "print(statistics.mean(performance_results))\n",
    "print(statistics.stdev(performance_results))"
   ]
  },
  {
   "cell_type": "code",
   "execution_count": null,
   "metadata": {
    "collapsed": true
   },
   "outputs": [],
   "source": [
    "10841.229755636177\n",
    "7526.546772302236\n",
    "9072.111642584901\n",
    "621.0216097915476\n",
    "\n",
    "10951.0677977124\n",
    "7476.093964348738\n",
    "9091.096682826419\n",
    "663.6401236122267"
   ]
  },
  {
   "cell_type": "code",
   "execution_count": null,
   "metadata": {
    "collapsed": false
   },
   "outputs": [],
   "source": [
    "def avg_list(inputs):\n",
    "    for i in inputs:\n",
    "        total+=i\n",
    "    return total/len(inputs)"
   ]
  },
  {
   "cell_type": "code",
   "execution_count": null,
   "metadata": {
    "collapsed": false
   },
   "outputs": [],
   "source": [
    "spy=Stock('SPY',api_key)"
   ]
  },
  {
   "cell_type": "code",
   "execution_count": null,
   "metadata": {
    "collapsed": false
   },
   "outputs": [],
   "source": [
    "spy_shares=1/float(json.loads(spy.api_output.content)['Time Series (Daily)']['2018-01-02']['5. adjusted close'])\n",
    "spy_shares*float(json.loads(spy.api_output.content)['Time Series (Daily)']['2018-12-31']['5. adjusted close'])"
   ]
  },
  {
   "cell_type": "code",
   "execution_count": null,
   "metadata": {
    "collapsed": false
   },
   "outputs": [],
   "source": [
    "pd.DataFrame(json.loads(sp500.sp500_prices['DIS'].api_output.content)['Time Series (Daily)']).transpose()"
   ]
  },
  {
   "cell_type": "code",
   "execution_count": null,
   "metadata": {
    "collapsed": true
   },
   "outputs": [],
   "source": [
    "port=Portfolio(sample_stocks['Symbol'].tolist())"
   ]
  },
  {
   "cell_type": "code",
   "execution_count": null,
   "metadata": {
    "collapsed": true
   },
   "outputs": [],
   "source": []
  },
  {
   "cell_type": "code",
   "execution_count": null,
   "metadata": {
    "collapsed": false
   },
   "outputs": [],
   "source": [
    "print(port.Stocks[5].symbol,port.Stocks[5].api_output.content)"
   ]
  },
  {
   "cell_type": "code",
   "execution_count": null,
   "metadata": {
    "collapsed": false
   },
   "outputs": [],
   "source": [
    "port.total_portfolio_df()"
   ]
  },
  {
   "cell_type": "code",
   "execution_count": null,
   "metadata": {
    "collapsed": false
   },
   "outputs": [],
   "source": [
    "stock1=Stock('DIS',api_key)\n",
    "stock2=Stock('T',api_key)\n",
    "combined=stock1.get_stock_df().join(stock2.get_stock_df(),lsuffix=' '+stock1.symbol,rsuffix=' '+stock2.symbol)"
   ]
  },
  {
   "cell_type": "code",
   "execution_count": null,
   "metadata": {
    "collapsed": false
   },
   "outputs": [],
   "source": [
    "stock1.get_stock_df()+stock2.get_stock_df()"
   ]
  },
  {
   "cell_type": "code",
   "execution_count": null,
   "metadata": {
    "collapsed": false
   },
   "outputs": [],
   "source": [
    "#combined"
   ]
  },
  {
   "cell_type": "code",
   "execution_count": null,
   "metadata": {
    "collapsed": false
   },
   "outputs": [],
   "source": [
    "combined[['5. adjusted close '+stock1.symbol,'5. adjusted close '+stock2.symbol]].astype(float).corr()"
   ]
  },
  {
   "cell_type": "code",
   "execution_count": null,
   "metadata": {
    "collapsed": false
   },
   "outputs": [],
   "source": [
    "\n",
    "\n",
    "stock_list=sp500_df.sample(5)['Symbol'].tolist()\n",
    "index=Portfolio(stock_list)\n",
    "index.Stocks[0].get_stock_df()"
   ]
  },
  {
   "cell_type": "code",
   "execution_count": null,
   "metadata": {
    "collapsed": false
   },
   "outputs": [],
   "source": [
    "z=Index()"
   ]
  },
  {
   "cell_type": "code",
   "execution_count": null,
   "metadata": {
    "collapsed": false
   },
   "outputs": [],
   "source": [
    "z."
   ]
  },
  {
   "cell_type": "code",
   "execution_count": null,
   "metadata": {
    "collapsed": false
   },
   "outputs": [],
   "source": [
    "z=Stock('DIS',api_key)\n",
    "z.get_stock_df()"
   ]
  },
  {
   "cell_type": "code",
   "execution_count": null,
   "metadata": {
    "collapsed": false
   },
   "outputs": [],
   "source": []
  },
  {
   "cell_type": "code",
   "execution_count": null,
   "metadata": {
    "collapsed": true
   },
   "outputs": [],
   "source": []
  }
 ],
 "metadata": {
  "kernelspec": {
   "display_name": "Python 3",
   "language": "python",
   "name": "python3"
  },
  "language_info": {
   "codemirror_mode": {
    "name": "ipython",
    "version": 3
   },
   "file_extension": ".py",
   "mimetype": "text/x-python",
   "name": "python",
   "nbconvert_exporter": "python",
   "pygments_lexer": "ipython3",
   "version": "3.6.0"
  }
 },
 "nbformat": 4,
 "nbformat_minor": 2
}
