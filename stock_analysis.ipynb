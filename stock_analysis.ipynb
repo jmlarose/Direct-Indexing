{
 "cells": [
  {
   "cell_type": "code",
   "execution_count": null,
   "metadata": {
    "collapsed": true
   },
   "outputs": [],
   "source": [
    "import requests\n",
    "import json\n",
    "from api_key import api_key\n",
    "import pandas as pd\n",
    "import time"
   ]
  },
  {
   "cell_type": "code",
   "execution_count": null,
   "metadata": {
    "collapsed": false
   },
   "outputs": [],
   "source": [
    "class Stock():\n",
    "    def __init__(self, symbol,api_key):\n",
    "        self.symbol=symbol\n",
    "        self.api_key=api_key\n",
    "        self.api_output=self.get_api_data()\n",
    "        self.weight=1\n",
    "        \n",
    "    def get_api_data(self):\n",
    "        \"\"\"make api call\"\"\"\n",
    "        #Would want to handle non-200 responses \n",
    "        r=requests.get('https://www.alphavantage.co/query?function=TIME_SERIES_DAILY_ADJUSTED&symbol='+self.symbol+'&outputsize=full&apikey='+self.api_key)\n",
    "        return r\n",
    "    \n",
    "    def get_stock_df(self):\n",
    "        \"\"\"Create a dataframe indexed by day wwhich has share price info\"\"\"\n",
    "        stock_hist=json.loads(self.api_output.content)\n",
    "        stock_df=pd.DataFrame(stock_hist['Time Series (Daily)']).transpose()\n",
    "        stock_df=stock_df.astype(float)\n",
    "        stock_df['9. symbol']=stock_hist['Meta Data']['2. Symbol']+' '\n",
    "        return stock_df\n",
    "    \n",
    "\n",
    "class Index():\n",
    "    #Need to do the API calls in the index because it's limited to 5/minute and 500/day\n",
    "    def __init__(self):\n",
    "        self.sp500_df=self.get_sp_df()\n",
    "        self.sp500_prices={}\n",
    "        self.api_all_stocks()\n",
    "    def get_sp_df(self):\n",
    "        #Need a better source for SP500 financials like mkcp\n",
    "        sp500=requests.get('https://datahub.io/core/s-and-p-500-companies-financials/r/constituents-financials.json')\n",
    "        sp500_df=pd.DataFrame(json.loads(sp500.content))\n",
    "        sp500_df['Shares']=sp500_df['Market Cap']/sp500_df['Price']\n",
    "        return sp500_df\n",
    "    def sample_sp(self,num_sample):\n",
    "        return self.sp500_df.sample(num_sample)\n",
    "    \n",
    "    def api_all_stocks(self):\n",
    "        symb_list=self.sp500_df['Symbol'].tolist()\n",
    "        for i in symb_list:\n",
    "            self.sp500_prices[i]=Stock(i, api_key)\n",
    "            time.sleep(15)\n",
    "\n",
    "    \n",
    "    \n",
    "class Portfolio():\n",
    "    def __init__(self, symbol_list):\n",
    "        self.symbol_list=symbol_list\n",
    "        self.Stocks=self.get_all_stocks()\n",
    "    def get_all_stocks(self):\n",
    "        Stocks=[]\n",
    "        for symbol in self.symbol_list:\n",
    "            Stocks.append(Stock(symbol,api_key))\n",
    "        return Stocks\n",
    "    def total_portfolio_df(self):\n",
    "        loop_check=0\n",
    "        for stock in self.Stocks:\n",
    "            if loop_check==0:\n",
    "                agg_df=stock.weight*stock.get_stock_df()\n",
    "            else:\n",
    "                agg_df+=stock.get_stock_df()\n",
    "        "
   ]
  },
  {
   "cell_type": "code",
   "execution_count": null,
   "metadata": {
    "collapsed": false
   },
   "outputs": [],
   "source": [
    "sp500=Index()"
   ]
  },
  {
   "cell_type": "code",
   "execution_count": null,
   "metadata": {
    "collapsed": false
   },
   "outputs": [],
   "source": [
    "\n",
    "#sample_stocks=sp500.sample_sp(10)\n",
    "#sample_stocks\n",
    "\n",
    "import pickle\n",
    "pickle.dump( sp500, open( \"save.p\", \"wb\" ) )"
   ]
  },
  {
   "cell_type": "code",
   "execution_count": null,
   "metadata": {
    "collapsed": false
   },
   "outputs": [],
   "source": [
    "sp500.sp500_prices['DIS'].api_output.content"
   ]
  },
  {
   "cell_type": "code",
   "execution_count": null,
   "metadata": {
    "collapsed": true
   },
   "outputs": [],
   "source": [
    "port=Portfolio(sample_stocks['Symbol'].tolist())"
   ]
  },
  {
   "cell_type": "code",
   "execution_count": null,
   "metadata": {
    "collapsed": true
   },
   "outputs": [],
   "source": []
  },
  {
   "cell_type": "code",
   "execution_count": null,
   "metadata": {
    "collapsed": false
   },
   "outputs": [],
   "source": [
    "print(port.Stocks[5].symbol,port.Stocks[5].api_output.content)"
   ]
  },
  {
   "cell_type": "code",
   "execution_count": null,
   "metadata": {
    "collapsed": false
   },
   "outputs": [],
   "source": [
    "port.total_portfolio_df()"
   ]
  },
  {
   "cell_type": "code",
   "execution_count": null,
   "metadata": {
    "collapsed": false
   },
   "outputs": [],
   "source": [
    "stock1=Stock('DIS',api_key)\n",
    "stock2=Stock('T',api_key)\n",
    "combined=stock1.get_stock_df().join(stock2.get_stock_df(),lsuffix=' '+stock1.symbol,rsuffix=' '+stock2.symbol)"
   ]
  },
  {
   "cell_type": "code",
   "execution_count": null,
   "metadata": {
    "collapsed": false
   },
   "outputs": [],
   "source": [
    "stock1.get_stock_df()+stock2.get_stock_df()"
   ]
  },
  {
   "cell_type": "code",
   "execution_count": null,
   "metadata": {
    "collapsed": false
   },
   "outputs": [],
   "source": [
    "#combined"
   ]
  },
  {
   "cell_type": "code",
   "execution_count": null,
   "metadata": {
    "collapsed": false
   },
   "outputs": [],
   "source": [
    "combined[['5. adjusted close '+stock1.symbol,'5. adjusted close '+stock2.symbol]].astype(float).corr()"
   ]
  },
  {
   "cell_type": "code",
   "execution_count": null,
   "metadata": {
    "collapsed": false
   },
   "outputs": [],
   "source": [
    "\n",
    "\n",
    "stock_list=sp500_df.sample(5)['Symbol'].tolist()\n",
    "index=Portfolio(stock_list)\n",
    "index.Stocks[0].get_stock_df()"
   ]
  },
  {
   "cell_type": "code",
   "execution_count": null,
   "metadata": {
    "collapsed": false
   },
   "outputs": [],
   "source": [
    "z=Index()"
   ]
  },
  {
   "cell_type": "code",
   "execution_count": null,
   "metadata": {
    "collapsed": false
   },
   "outputs": [],
   "source": [
    "z."
   ]
  },
  {
   "cell_type": "code",
   "execution_count": null,
   "metadata": {
    "collapsed": false
   },
   "outputs": [],
   "source": [
    "z=Stock('DIS',api_key)\n",
    "z.get_stock_df()"
   ]
  },
  {
   "cell_type": "code",
   "execution_count": null,
   "metadata": {
    "collapsed": false
   },
   "outputs": [],
   "source": []
  },
  {
   "cell_type": "code",
   "execution_count": null,
   "metadata": {
    "collapsed": true
   },
   "outputs": [],
   "source": []
  }
 ],
 "metadata": {
  "kernelspec": {
   "display_name": "Python 3",
   "language": "python",
   "name": "python3"
  },
  "language_info": {
   "codemirror_mode": {
    "name": "ipython",
    "version": 3
   },
   "file_extension": ".py",
   "mimetype": "text/x-python",
   "name": "python",
   "nbconvert_exporter": "python",
   "pygments_lexer": "ipython3",
   "version": "3.6.0"
  }
 },
 "nbformat": 4,
 "nbformat_minor": 2
}
